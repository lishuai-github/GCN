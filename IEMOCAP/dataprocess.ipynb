{
 "cells": [
  {
   "cell_type": "markdown",
   "id": "95982fd1",
   "metadata": {},
   "source": [
    "# IEMOCAP数据处理"
   ]
  },
  {
   "cell_type": "markdown",
   "id": "4b1cab01",
   "metadata": {},
   "source": [
    "数据包括视频、音频、文本。视频是以对话形式录制的。"
   ]
  },
  {
   "cell_type": "code",
   "execution_count": 12,
   "id": "ffc9cdb2",
   "metadata": {},
   "outputs": [],
   "source": [
    "import os\n",
    "import json"
   ]
  },
  {
   "cell_type": "code",
   "execution_count": 3,
   "id": "7f3a1b04",
   "metadata": {},
   "outputs": [],
   "source": [
    "data_path = 'D:\\dataset\\IEMOCAP_full_release\\IEMOCAP_full_release'"
   ]
  },
  {
   "cell_type": "markdown",
   "id": "0dbec55d",
   "metadata": {},
   "source": [
    "## 提取数据标签"
   ]
  },
  {
   "cell_type": "code",
   "execution_count": 5,
   "id": "75492bfe",
   "metadata": {},
   "outputs": [
    {
     "name": "stdout",
     "output_type": "stream",
     "text": [
      "       starttime  endtime                sentence emotion  val  act  dom\n",
      "10034     236.57   244.83  Ses05M_script03_2_M041     ang  1.0  4.5  5.0\n",
      "10035     244.84   246.58  Ses05M_script03_2_M042     ang  1.0  4.5  4.5\n",
      "10036     246.59   248.83  Ses05M_script03_2_M043     ang  1.5  4.0  4.5\n",
      "10037     255.86   260.33  Ses05M_script03_2_M044     ang  1.0  5.0  5.0\n",
      "10038     260.34   266.35  Ses05M_script03_2_M045     ang  1.0  5.0  5.0\n"
     ]
    }
   ],
   "source": [
    "import re\n",
    "import os\n",
    "import pandas as pd\n",
    "def get_labels(data_path):\n",
    "    #从EmoEvaluation文件中获取每一句话的标签\n",
    "    info_line = re.compile(r'\\[.+\\]\\n', re.IGNORECASE)\n",
    "    start_times, end_times, wav_file_names, emotions, vals, acts, doms = [], [], [], [], [], [], []\n",
    "    for sess in range(1, 6):\n",
    "        emo_evaluation_dir = data_path+'\\\\Session{}\\\\dialog\\\\EmoEvaluation\\\\'.format(sess)\n",
    "        evaluation_files = [l for l in os.listdir(emo_evaluation_dir) if 'Ses' in l]\n",
    "        for file in evaluation_files:\n",
    "            with open(emo_evaluation_dir + file) as f:\n",
    "                content = f.read()\n",
    "            info_lines = re.findall(info_line, content)\n",
    "            for line in info_lines[1:]:  # the first line is a header\n",
    "                start_end_time, wav_file_name, emotion, val_act_dom = line.strip().split('\\t')\n",
    "                start_time, end_time = start_end_time[1:-1].split('-')\n",
    "                val, act, dom = val_act_dom[1:-1].split(',')\n",
    "                val, act, dom = float(val), float(act), float(dom)\n",
    "                start_time, end_time = float(start_time), float(end_time)\n",
    "                start_times.append(start_time)\n",
    "                end_times.append(end_time)\n",
    "                wav_file_names.append(wav_file_name)\n",
    "                emotions.append(emotion)\n",
    "                vals.append(val)\n",
    "                acts.append(act)\n",
    "                doms.append(dom)\n",
    "    df_iemocap = pd.DataFrame(columns=['starttime', 'endtime', 'sentence', 'emotion', 'val', 'act', 'dom'])\n",
    "    df_iemocap['starttime'] = start_times\n",
    "    df_iemocap['endtime'] = end_times\n",
    "    df_iemocap['sentence'] = wav_file_names\n",
    "    df_iemocap['emotion'] = emotions\n",
    "    df_iemocap['val'] = vals\n",
    "    df_iemocap['act'] = acts\n",
    "    df_iemocap['dom'] = doms\n",
    "    print(df_iemocap.tail())\n",
    "    df_iemocap.to_csv(data_path+'\\\\pre_processed\\\\iemocap_label.csv', index=False)           \n",
    "# get_labels(data_path)"
   ]
  },
  {
   "cell_type": "markdown",
   "id": "ef1413bf",
   "metadata": {},
   "source": [
    "## 音频数据处理"
   ]
  },
  {
   "cell_type": "code",
   "execution_count": null,
   "id": "32b24ed6",
   "metadata": {},
   "outputs": [],
   "source": []
  },
  {
   "cell_type": "markdown",
   "id": "d8af168f",
   "metadata": {},
   "source": [
    "## 文本数据处理\n",
    "\n",
    "将文本整理保存为JSON文件，数据格式如下\n",
    "\"Session1\": sessionm名\n",
    "    {\"Ses01F_impro01\":文件名 \n",
    "        [{\"sentence\": \"Ses01F_impro01_F000\", \"startime\": \"006.2901\", \"endtime\": \"008.2357\", \"text\": \"Excuse me.\"}, 话语信息包括句话语编号，起始时间，结束时间，文本内容\n",
    "        {\"sentence\": \"Ses01F_impro01_M000\", \"startime\": \"007.5712\", \"endtime\": \"010.4750\", \"text\": \"Do you have your forms?\"},\n",
    "        ...],\n",
    "    \"Ses01F_impro02\": \n",
    "        [{\"sentence\": \"Ses01F_impro02_F000\", \"startime\": \"007.2688\", \"endtime\": \"016.6000\", \"text\": \"Did you get the mail? So you saw my letter?\"},\n",
    "        ...],\n",
    "    ...\n",
    "    }\n",
    "\"Session2\":\n",
    "    {\n",
    "        ...\n",
    "    }\n",
    "..."
   ]
  },
  {
   "cell_type": "code",
   "execution_count": 14,
   "id": "174313f5",
   "metadata": {},
   "outputs": [],
   "source": [
    "def get_textJSON(data_path):\n",
    "    text_dir ={}\n",
    "    iemocap_filename = {}\n",
    "    for i in range(5):\n",
    "        list_path  = data_path + '\\\\Session'+str(i+1)+'\\\\dialog\\\\transcriptions'\n",
    "        session_dir = {}\n",
    "        txt_list = os.listdir(list_path)\n",
    "        for txt in txt_list:\n",
    "            txt_path = os.path.join(list_path,txt)\n",
    "            with open(txt_path,'r',encoding=\"utf-8\") as f:\n",
    "                linelist = f.read().split(\"\\n\")\n",
    "                result =[]\n",
    "                for line in linelist:\n",
    "                    if len(line) > 30 and \"]:\" in line:\n",
    "                        sentence = line.split(' ')[0]\n",
    "                        startime = line.split(\" \")[1].split('-')[0][1:]\n",
    "                        endtime = line.split(\" \")[1].split('-')[1][:-2]\n",
    "                        text = line.split(\"]: \")[1]\n",
    "                        item = {\n",
    "                            'sentence':sentence,\n",
    "                            'startime':startime,\n",
    "                            'endtime':endtime,\n",
    "                            'text':text\n",
    "                        }\n",
    "                        result.append(item)\n",
    "            session_dir[txt[:-4]] = result\n",
    "        iemocap_filename['Session'+ str(i+1)] = txt_list\n",
    "        text_dir['Session'+ str(i+1)] = session_dir\n",
    "    #将文本保存为json           \n",
    "    with open('IEMOCAP_text.json', 'w') as dump_f:\n",
    "        json.dump(text_dir,dump_f)\n",
    "    #将iemocap数据库中的文件名，即视频，音频，文本名字保存\n",
    "    with open('iemocap_filename.json', 'w') as dump_f:\n",
    "        json.dump(iemocap_filename,dump_f)   \n",
    "# get_textJSON(data_path)\n",
    "\n",
    "# 读取JSON文件\n",
    "# with open('IEMOCAP_text.json', 'r',encoding=\"utf-8\") as load_f:\n",
    "#     text = json.load(load_f)\n",
    "#     print(text['Session1'][\"Ses01F_impro01\"][0])"
   ]
  }
 ],
 "metadata": {
  "interpreter": {
   "hash": "523fa54491c9fe49381f47ad0ff9dc85e8f0d070e4dbb6d153365e32788ea703"
  },
  "kernelspec": {
   "display_name": "Python 3.6.13 64-bit ('torch': conda)",
   "name": "python3"
  },
  "language_info": {
   "codemirror_mode": {
    "name": "ipython",
    "version": 3
   },
   "file_extension": ".py",
   "mimetype": "text/x-python",
   "name": "python",
   "nbconvert_exporter": "python",
   "pygments_lexer": "ipython3",
   "version": "3.6.13"
  },
  "toc-showmarkdowntxt": false
 },
 "nbformat": 4,
 "nbformat_minor": 5
}
